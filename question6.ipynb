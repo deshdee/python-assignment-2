{
 "cells": [
  {
   "cell_type": "markdown",
   "id": "e9575a39-f6df-4921-9ebc-f48cd831bb82",
   "metadata": {},
   "source": [
    "6. Create a multiplication table program for 2 times that will stop at 12 using while loop, let the result be\n",
    "displayed on the terminal below\n",
    "2 X 1 = 2\n",
    "2 X 2 = 4\n",
    "2 X 3 = 6\n",
    "2 X 4 = 8\n",
    "2 X 5 = 10\n",
    "2 X 6 = 12\n",
    "2 X 7 = 14"
   ]
  },
  {
   "cell_type": "code",
   "execution_count": 2,
   "id": "db747985-9d41-4df2-a451-1772d30de304",
   "metadata": {},
   "outputs": [
    {
     "name": "stdout",
     "output_type": "stream",
     "text": [
      "2 x 1 = 2\n",
      "2 x 2 = 4\n",
      "2 x 3 = 6\n",
      "2 x 4 = 8\n",
      "2 x 5 = 10\n",
      "2 x 6 = 12\n",
      "2 x 7 = 14\n"
     ]
    }
   ],
   "source": [
    "num = 2\n",
    "for x in range (1,8):\n",
    "    print (num, 'x', x, '=', num*x)"
   ]
  },
  {
   "cell_type": "code",
   "execution_count": null,
   "id": "1fd9b37a-009e-4bc1-8059-1c15c0d6f026",
   "metadata": {},
   "outputs": [],
   "source": []
  }
 ],
 "metadata": {
  "kernelspec": {
   "display_name": "Python 3 (ipykernel)",
   "language": "python",
   "name": "python3"
  },
  "language_info": {
   "codemirror_mode": {
    "name": "ipython",
    "version": 3
   },
   "file_extension": ".py",
   "mimetype": "text/x-python",
   "name": "python",
   "nbconvert_exporter": "python",
   "pygments_lexer": "ipython3",
   "version": "3.9.13"
  }
 },
 "nbformat": 4,
 "nbformat_minor": 5
}
