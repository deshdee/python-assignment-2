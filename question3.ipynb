{
 "cells": [
  {
   "cell_type": "markdown",
   "id": "d5c97c93-c925-482b-a28a-7995e156da9d",
   "metadata": {},
   "source": [
    "3. Using the nested dictionary below write a program in Python that will form the sentence below\n",
    "world = {\n",
    "    'Africa':{'Nigeira':'Abuja', 'Ghana':'Accra', 'Egypt':'Cairo'},\n",
    "    'Europe':{'England':'London', 'Germany':'Berlin', 'Spain':'Madrid'},\n",
    "    'Asia':{'Japan':'Tokyo', 'China':'Beijing', 'India':'New Delhi'},\n",
    " }\n",
    "The capital of India is New Delhi while Germany is Berlin"
   ]
  },
  {
   "cell_type": "code",
   "execution_count": 1,
   "id": "77bd4484-e54f-43da-8f1f-bbd58b0cdeb9",
   "metadata": {},
   "outputs": [
    {
     "name": "stdout",
     "output_type": "stream",
     "text": [
      "{'Africa': {'Nigeira': 'Abuja', 'Ghana': 'Accra', 'Egypt': 'Cairo'}, 'Europe': {'England': 'London', 'Germany': 'Berlin', 'Spain': 'Madrid'}, 'Asia': {'Japan': 'Tokyo', 'China': 'Beijing', 'India': 'New Delhi'}}\n"
     ]
    }
   ],
   "source": [
    "world = {\n",
    "    'Africa':{'Nigeira':'Abuja', 'Ghana':'Accra', 'Egypt':'Cairo'},\n",
    "    'Europe':{'England':'London', 'Germany':'Berlin', 'Spain':'Madrid'},\n",
    "    'Asia':{'Japan':'Tokyo', 'China':'Beijing', 'India':'New Delhi'},\n",
    " }\n",
    "print(world)"
   ]
  }
 ],
 "metadata": {
  "kernelspec": {
   "display_name": "Python 3 (ipykernel)",
   "language": "python",
   "name": "python3"
  },
  "language_info": {
   "codemirror_mode": {
    "name": "ipython",
    "version": 3
   },
   "file_extension": ".py",
   "mimetype": "text/x-python",
   "name": "python",
   "nbconvert_exporter": "python",
   "pygments_lexer": "ipython3",
   "version": "3.9.13"
  }
 },
 "nbformat": 4,
 "nbformat_minor": 5
}
