{
 "cells": [
  {
   "cell_type": "markdown",
   "id": "8527eb58-84ff-463a-b445-e2f2b5701b78",
   "metadata": {},
   "source": [
    "4. Using any of the conditional statement learnt write a simple Python program that will output the score and\n",
    "remark eg “Your score is 76 and this is Excellence” whenever, the score variable is changes using the algorithm\n",
    "below. Make sure that invalid score such value greater than 100 or less than 1 are detected and reported.\n",
    "\n",
    "0 – 34 = Fail\n",
    "35 – 44 = Pass\n",
    "45 – 49 = Fair\n",
    "50 – 59 = Good\n",
    "60 – 69 = Very Good\n",
    "70 – 100 = Excellence "
   ]
  },
  {
   "cell_type": "code",
   "execution_count": 3,
   "id": "cc14823a-ccc0-4ad0-9083-7be80a77fc3c",
   "metadata": {},
   "outputs": [
    {
     "name": "stdin",
     "output_type": "stream",
     "text": [
      "Enter your score 29\n"
     ]
    },
    {
     "name": "stdout",
     "output_type": "stream",
     "text": [
      "Your score is 29 and this is fail\n"
     ]
    }
   ],
   "source": [
    "score = int(input(\"Enter your score\"))\n",
    " \n",
    "if score>=70 and score<=100:\n",
    "    print(f'Your score is {score} and this is Excellence')\n",
    "elif score>60 and score<=69:\n",
    "    print(f'Your score is {score} and this is very good')\n",
    "elif score>50 and score<=59:\n",
    "    print(f'Your score is {score} and this is good')\n",
    "elif score>45 and score<=49:\n",
    "    print(f'Your score is {score} and this is fair')\n",
    "elif score>35 and score<=44:\n",
    "    print(f'Your score is {score} and this is pass')\n",
    "elif score>0 and score<=34:\n",
    "    print(f'Your score is {score} and this is fail')"
   ]
  },
  {
   "cell_type": "code",
   "execution_count": null,
   "id": "837569ba-7c3a-4ae3-87d2-5db9e380cc5e",
   "metadata": {},
   "outputs": [],
   "source": []
  }
 ],
 "metadata": {
  "kernelspec": {
   "display_name": "Python 3 (ipykernel)",
   "language": "python",
   "name": "python3"
  },
  "language_info": {
   "codemirror_mode": {
    "name": "ipython",
    "version": 3
   },
   "file_extension": ".py",
   "mimetype": "text/x-python",
   "name": "python",
   "nbconvert_exporter": "python",
   "pygments_lexer": "ipython3",
   "version": "3.9.13"
  }
 },
 "nbformat": 4,
 "nbformat_minor": 5
}
