{
 "cells": [
  {
   "cell_type": "markdown",
   "id": "6cdf3843-dba5-4d37-977d-200f5430e01b",
   "metadata": {},
   "source": [
    "5. Write a program in Python that will sums all the numbers in a list 10, 20, 30, 40, 70, 200, 300 and also\n",
    "determine the average. "
   ]
  },
  {
   "cell_type": "code",
   "execution_count": 3,
   "id": "6ac1e730-9835-4c03-9a8d-38d1a9b1abc1",
   "metadata": {},
   "outputs": [
    {
     "name": "stdout",
     "output_type": "stream",
     "text": [
      "95.71428571428571\n"
     ]
    }
   ],
   "source": [
    "myList = [10, 20, 30, 40, 70, 200, 300]\n",
    "total = sum(myList)/len(myList)\n",
    "print(total)"
   ]
  },
  {
   "cell_type": "code",
   "execution_count": null,
   "id": "477c0b22-9c2f-4fa0-aad9-05e9acd2fc73",
   "metadata": {},
   "outputs": [],
   "source": []
  }
 ],
 "metadata": {
  "kernelspec": {
   "display_name": "Python 3 (ipykernel)",
   "language": "python",
   "name": "python3"
  },
  "language_info": {
   "codemirror_mode": {
    "name": "ipython",
    "version": 3
   },
   "file_extension": ".py",
   "mimetype": "text/x-python",
   "name": "python",
   "nbconvert_exporter": "python",
   "pygments_lexer": "ipython3",
   "version": "3.9.13"
  }
 },
 "nbformat": 4,
 "nbformat_minor": 5
}
