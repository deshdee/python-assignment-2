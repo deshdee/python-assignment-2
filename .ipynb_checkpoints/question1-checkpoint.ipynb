{
 "cells": [
  {
   "cell_type": "markdown",
   "id": "7fca91cb-dbc6-4e40-a21c-aecc2d999e86",
   "metadata": {},
   "source": [
    "1. Given the list below\n",
    " person = ['John', 45, 'Fair', True, 'Tall']\n",
    " Use the values in the list to form the sentence below\n",
    "a. My name is John, I am 45years old and Fair in complexion\n",
    "Where John, 45, Fair are values in the list\n",
    "b. Add the list below to the person list\n",
    " children = ['Joan', 'Peter', 'Cynthia']"
   ]
  },
  {
   "cell_type": "code",
   "execution_count": 1,
   "id": "172bcbdc-b7db-4221-8a92-67adb93862ee",
   "metadata": {},
   "outputs": [
    {
     "name": "stdout",
     "output_type": "stream",
     "text": [
      "['John', 45, 'Fair', True, 'Tall']\n"
     ]
    }
   ],
   "source": [
    " person = ['John', 45, 'Fair', True, 'Tall']\n",
    "print(person)"
   ]
  },
  {
   "cell_type": "code",
   "execution_count": 2,
   "id": "71670810-0fed-4e81-9337-bd71fece655d",
   "metadata": {},
   "outputs": [
    {
     "name": "stdout",
     "output_type": "stream",
     "text": [
      "My name is John, I am 45 years old, and Fair.\n"
     ]
    }
   ],
   "source": [
    "person = ['John', 45, 'Fair', True, 'Tall']\n",
    "sentence = f'My name is {person[0]}, I am {person[1]} years old, and {person[2]}.'\n",
    "print(sentence)"
   ]
  },
  {
   "cell_type": "code",
   "execution_count": 4,
   "id": "8fa1644f-0c6e-4eab-96cd-a13cf7a4eb57",
   "metadata": {},
   "outputs": [
    {
     "name": "stdout",
     "output_type": "stream",
     "text": [
      "['John', 45, 'Fair', True, 'Tall']\n",
      "['Joan', 'Peter', 'Cynthia']\n"
     ]
    }
   ],
   "source": [
    "person = ['John', 45, 'Fair', True, 'Tall']\n",
    "children = ['Joan', 'Peter', 'Cynthia']\n",
    "print(person)\n",
    "print(children)"
   ]
  },
  {
   "cell_type": "code",
   "execution_count": 2,
   "id": "0bd3da7b-24af-4518-9761-b1df1b4385c5",
   "metadata": {},
   "outputs": [
    {
     "name": "stdout",
     "output_type": "stream",
     "text": [
      "{True, 'Fair', 'Joan', 'Cynthia', 'Peter', 'Tall', 45, 'John'}\n"
     ]
    }
   ],
   "source": [
    "person = {'John', 45, 'Fair', True, 'Tall'}\n",
    "children = {'Joan', 'Peter', 'Cynthia'}\n",
    "person.update(children)\n",
    "print(person)"
   ]
  },
  {
   "cell_type": "code",
   "execution_count": 2,
   "id": "a3aae412-b548-4c42-91b8-01c880f5eb83",
   "metadata": {},
   "outputs": [
    {
     "name": "stdout",
     "output_type": "stream",
     "text": [
      "['John', 45, 'Fair', True, 'Tall', ['Joan', 'Peter', 'Cynthia']]\n"
     ]
    }
   ],
   "source": [
    "person = ['John', 45, 'Fair', True, 'Tall']\n",
    "children = ['Joan', 'Peter', 'Cynthia']\n",
    "person.append(children)\n",
    "print(person)"
   ]
  },
  {
   "cell_type": "code",
   "execution_count": null,
   "id": "1775b4e4-afdb-4627-b29e-5e3abca0a337",
   "metadata": {},
   "outputs": [],
   "source": []
  }
 ],
 "metadata": {
  "kernelspec": {
   "display_name": "Python 3 (ipykernel)",
   "language": "python",
   "name": "python3"
  },
  "language_info": {
   "codemirror_mode": {
    "name": "ipython",
    "version": 3
   },
   "file_extension": ".py",
   "mimetype": "text/x-python",
   "name": "python",
   "nbconvert_exporter": "python",
   "pygments_lexer": "ipython3",
   "version": "3.9.13"
  }
 },
 "nbformat": 4,
 "nbformat_minor": 5
}
