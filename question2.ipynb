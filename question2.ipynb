{
 "cells": [
  {
   "cell_type": "markdown",
   "id": "b279cecb-825a-4e23-a221-ece12b2046f5",
   "metadata": {},
   "source": [
    "2. Given the dictionary below\n",
    "\n",
    " person = {\n",
    "    'name':'John',\n",
    "    'age': 45,\n",
    "    'color':'Fair',\n",
    "    'status': True,\n",
    "    'height': 'Tall'\n",
    " }\n",
    "a. Using the .get() method, get the values in the list in order to form the sentence below\n",
    " My name is John, I am 45years old and Fair in complexion\n",
    " Where John, 45, Fair are values in the list"
   ]
  },
  {
   "cell_type": "code",
   "execution_count": 3,
   "id": "42256de9-1966-4d2c-9dad-16eaae50c9ac",
   "metadata": {},
   "outputs": [
    {
     "name": "stdout",
     "output_type": "stream",
     "text": [
      "My name is John, I am 45 years old and Fair in complexion.\n"
     ]
    }
   ],
   "source": [
    "person = {\n",
    "    'name':'John',\n",
    "    'age': 45,\n",
    "    'color':'Fair',\n",
    "    'status': True,\n",
    "    'height': 'Tall'\n",
    " }\n",
    "x = person.get('name')\n",
    "y = person.get('age')\n",
    "z = person.get('color')\n",
    "sentence = f'My name is {x}, I am {y} years old and {z} in complexion.'\n",
    "print(sentence)"
   ]
  }
 ],
 "metadata": {
  "kernelspec": {
   "display_name": "Python 3 (ipykernel)",
   "language": "python",
   "name": "python3"
  },
  "language_info": {
   "codemirror_mode": {
    "name": "ipython",
    "version": 3
   },
   "file_extension": ".py",
   "mimetype": "text/x-python",
   "name": "python",
   "nbconvert_exporter": "python",
   "pygments_lexer": "ipython3",
   "version": "3.9.13"
  }
 },
 "nbformat": 4,
 "nbformat_minor": 5
}
