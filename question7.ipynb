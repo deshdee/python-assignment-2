{
 "cells": [
  {
   "cell_type": "markdown",
   "id": "7b1748d1-a24d-4adb-af26-7401bfa5f48f",
   "metadata": {},
   "source": [
    "7. Write a program in python that tells if the name you supplied is in a list or the name is not in a list."
   ]
  },
  {
   "cell_type": "code",
   "execution_count": 1,
   "id": "123d75e4-1a0a-4243-b24e-46a839be312d",
   "metadata": {},
   "outputs": [
    {
     "name": "stdin",
     "output_type": "stream",
     "text": [
      "Enter your name Deborah\n"
     ]
    },
    {
     "name": "stdout",
     "output_type": "stream",
     "text": [
      "Deborah do not exist in our database\n"
     ]
    }
   ],
   "source": [
    "myList = [\"Gerald\", \"Lovette\", \"Tope\", \"Chidera\", \"Moses\", \"Jose\"]\n",
    "\n",
    "i = input(\"Enter your name\")\n",
    "\n",
    "if i in myList:\n",
    "    print (f'{i} exist in our database')\n",
    "else:\n",
    "    print (f'{i} do not exist in our database')"
   ]
  },
  {
   "cell_type": "code",
   "execution_count": null,
   "id": "16c36500-5c0a-4fe2-abbc-ee1ed8abdedb",
   "metadata": {},
   "outputs": [],
   "source": []
  }
 ],
 "metadata": {
  "kernelspec": {
   "display_name": "Python 3 (ipykernel)",
   "language": "python",
   "name": "python3"
  },
  "language_info": {
   "codemirror_mode": {
    "name": "ipython",
    "version": 3
   },
   "file_extension": ".py",
   "mimetype": "text/x-python",
   "name": "python",
   "nbconvert_exporter": "python",
   "pygments_lexer": "ipython3",
   "version": "3.9.13"
  }
 },
 "nbformat": 4,
 "nbformat_minor": 5
}
